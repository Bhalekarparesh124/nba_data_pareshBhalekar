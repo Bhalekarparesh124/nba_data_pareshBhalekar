{
 "cells": [
  {
   "cell_type": "markdown",
   "id": "10a47323-fec9-43d4-8a75-df6cf56b2923",
   "metadata": {},
   "source": [
    "Part 1"
   ]
  },
  {
   "cell_type": "code",
   "execution_count": 3,
   "id": "7c6ebc79-500d-42d7-a0f3-124209d8b984",
   "metadata": {},
   "outputs": [],
   "source": [
    "import pandas as pd"
   ]
  },
  {
   "cell_type": "code",
   "execution_count": 5,
   "id": "f8623337-f6eb-48f1-bd3c-68ac28a5ed21",
   "metadata": {},
   "outputs": [],
   "source": [
    "nba_data = pd.read_csv('nba.csv')"
   ]
  },
  {
   "cell_type": "code",
   "execution_count": 8,
   "id": "58725fd7-7f8b-4b60-8ffe-de319a2ae5c3",
   "metadata": {},
   "outputs": [
    {
     "name": "stdout",
     "output_type": "stream",
     "text": [
      "<class 'pandas.core.frame.DataFrame'>\n",
      "RangeIndex: 458 entries, 0 to 457\n",
      "Data columns (total 9 columns):\n",
      " #   Column    Non-Null Count  Dtype  \n",
      "---  ------    --------------  -----  \n",
      " 0   Name      457 non-null    object \n",
      " 1   Team      457 non-null    object \n",
      " 2   Number    457 non-null    float64\n",
      " 3   Position  457 non-null    object \n",
      " 4   Age       457 non-null    float64\n",
      " 5   Height    457 non-null    object \n",
      " 6   Weight    457 non-null    float64\n",
      " 7   College   373 non-null    object \n",
      " 8   Salary    446 non-null    float64\n",
      "dtypes: float64(4), object(5)\n",
      "memory usage: 32.3+ KB\n"
     ]
    }
   ],
   "source": [
    "nba_data.info()"
   ]
  },
  {
   "cell_type": "code",
   "execution_count": 10,
   "id": "4d36865b-619a-4e95-9bcd-3ef915782bd9",
   "metadata": {},
   "outputs": [
    {
     "data": {
      "text/plain": [
       "(458, 9)"
      ]
     },
     "execution_count": 10,
     "metadata": {},
     "output_type": "execute_result"
    }
   ],
   "source": [
    "nba_data.shape"
   ]
  },
  {
   "cell_type": "code",
   "execution_count": 12,
   "id": "8224f1ce-a349-4c80-811e-6d761ed2812a",
   "metadata": {},
   "outputs": [
    {
     "data": {
      "text/html": [
       "<div>\n",
       "<style scoped>\n",
       "    .dataframe tbody tr th:only-of-type {\n",
       "        vertical-align: middle;\n",
       "    }\n",
       "\n",
       "    .dataframe tbody tr th {\n",
       "        vertical-align: top;\n",
       "    }\n",
       "\n",
       "    .dataframe thead th {\n",
       "        text-align: right;\n",
       "    }\n",
       "</style>\n",
       "<table border=\"1\" class=\"dataframe\">\n",
       "  <thead>\n",
       "    <tr style=\"text-align: right;\">\n",
       "      <th></th>\n",
       "      <th>Name</th>\n",
       "      <th>Team</th>\n",
       "      <th>Number</th>\n",
       "      <th>Position</th>\n",
       "      <th>Age</th>\n",
       "      <th>Height</th>\n",
       "      <th>Weight</th>\n",
       "      <th>College</th>\n",
       "      <th>Salary</th>\n",
       "    </tr>\n",
       "  </thead>\n",
       "  <tbody>\n",
       "    <tr>\n",
       "      <th>0</th>\n",
       "      <td>Avery Bradley</td>\n",
       "      <td>Boston Celtics</td>\n",
       "      <td>0.0</td>\n",
       "      <td>PG</td>\n",
       "      <td>25.0</td>\n",
       "      <td>6-2</td>\n",
       "      <td>180.0</td>\n",
       "      <td>Texas</td>\n",
       "      <td>7730337.0</td>\n",
       "    </tr>\n",
       "    <tr>\n",
       "      <th>1</th>\n",
       "      <td>Jae Crowder</td>\n",
       "      <td>Boston Celtics</td>\n",
       "      <td>99.0</td>\n",
       "      <td>SF</td>\n",
       "      <td>25.0</td>\n",
       "      <td>6-6</td>\n",
       "      <td>235.0</td>\n",
       "      <td>Marquette</td>\n",
       "      <td>6796117.0</td>\n",
       "    </tr>\n",
       "    <tr>\n",
       "      <th>2</th>\n",
       "      <td>John Holland</td>\n",
       "      <td>Boston Celtics</td>\n",
       "      <td>30.0</td>\n",
       "      <td>SG</td>\n",
       "      <td>27.0</td>\n",
       "      <td>6-5</td>\n",
       "      <td>205.0</td>\n",
       "      <td>Boston University</td>\n",
       "      <td>NaN</td>\n",
       "    </tr>\n",
       "    <tr>\n",
       "      <th>3</th>\n",
       "      <td>R.J. Hunter</td>\n",
       "      <td>Boston Celtics</td>\n",
       "      <td>28.0</td>\n",
       "      <td>SG</td>\n",
       "      <td>22.0</td>\n",
       "      <td>6-5</td>\n",
       "      <td>185.0</td>\n",
       "      <td>Georgia State</td>\n",
       "      <td>1148640.0</td>\n",
       "    </tr>\n",
       "    <tr>\n",
       "      <th>4</th>\n",
       "      <td>Jonas Jerebko</td>\n",
       "      <td>Boston Celtics</td>\n",
       "      <td>8.0</td>\n",
       "      <td>PF</td>\n",
       "      <td>29.0</td>\n",
       "      <td>6-10</td>\n",
       "      <td>231.0</td>\n",
       "      <td>NaN</td>\n",
       "      <td>5000000.0</td>\n",
       "    </tr>\n",
       "    <tr>\n",
       "      <th>5</th>\n",
       "      <td>Amir Johnson</td>\n",
       "      <td>Boston Celtics</td>\n",
       "      <td>90.0</td>\n",
       "      <td>PF</td>\n",
       "      <td>29.0</td>\n",
       "      <td>6-9</td>\n",
       "      <td>240.0</td>\n",
       "      <td>NaN</td>\n",
       "      <td>12000000.0</td>\n",
       "    </tr>\n",
       "    <tr>\n",
       "      <th>6</th>\n",
       "      <td>Jordan Mickey</td>\n",
       "      <td>Boston Celtics</td>\n",
       "      <td>55.0</td>\n",
       "      <td>PF</td>\n",
       "      <td>21.0</td>\n",
       "      <td>6-8</td>\n",
       "      <td>235.0</td>\n",
       "      <td>LSU</td>\n",
       "      <td>1170960.0</td>\n",
       "    </tr>\n",
       "    <tr>\n",
       "      <th>7</th>\n",
       "      <td>Kelly Olynyk</td>\n",
       "      <td>Boston Celtics</td>\n",
       "      <td>41.0</td>\n",
       "      <td>C</td>\n",
       "      <td>25.0</td>\n",
       "      <td>7-0</td>\n",
       "      <td>238.0</td>\n",
       "      <td>Gonzaga</td>\n",
       "      <td>2165160.0</td>\n",
       "    </tr>\n",
       "    <tr>\n",
       "      <th>8</th>\n",
       "      <td>Terry Rozier</td>\n",
       "      <td>Boston Celtics</td>\n",
       "      <td>12.0</td>\n",
       "      <td>PG</td>\n",
       "      <td>22.0</td>\n",
       "      <td>6-2</td>\n",
       "      <td>190.0</td>\n",
       "      <td>Louisville</td>\n",
       "      <td>1824360.0</td>\n",
       "    </tr>\n",
       "    <tr>\n",
       "      <th>9</th>\n",
       "      <td>Marcus Smart</td>\n",
       "      <td>Boston Celtics</td>\n",
       "      <td>36.0</td>\n",
       "      <td>PG</td>\n",
       "      <td>22.0</td>\n",
       "      <td>6-4</td>\n",
       "      <td>220.0</td>\n",
       "      <td>Oklahoma State</td>\n",
       "      <td>3431040.0</td>\n",
       "    </tr>\n",
       "  </tbody>\n",
       "</table>\n",
       "</div>"
      ],
      "text/plain": [
       "            Name            Team  Number Position   Age Height  Weight  \\\n",
       "0  Avery Bradley  Boston Celtics     0.0       PG  25.0    6-2   180.0   \n",
       "1    Jae Crowder  Boston Celtics    99.0       SF  25.0    6-6   235.0   \n",
       "2   John Holland  Boston Celtics    30.0       SG  27.0    6-5   205.0   \n",
       "3    R.J. Hunter  Boston Celtics    28.0       SG  22.0    6-5   185.0   \n",
       "4  Jonas Jerebko  Boston Celtics     8.0       PF  29.0   6-10   231.0   \n",
       "5   Amir Johnson  Boston Celtics    90.0       PF  29.0    6-9   240.0   \n",
       "6  Jordan Mickey  Boston Celtics    55.0       PF  21.0    6-8   235.0   \n",
       "7   Kelly Olynyk  Boston Celtics    41.0        C  25.0    7-0   238.0   \n",
       "8   Terry Rozier  Boston Celtics    12.0       PG  22.0    6-2   190.0   \n",
       "9   Marcus Smart  Boston Celtics    36.0       PG  22.0    6-4   220.0   \n",
       "\n",
       "             College      Salary  \n",
       "0              Texas   7730337.0  \n",
       "1          Marquette   6796117.0  \n",
       "2  Boston University         NaN  \n",
       "3      Georgia State   1148640.0  \n",
       "4                NaN   5000000.0  \n",
       "5                NaN  12000000.0  \n",
       "6                LSU   1170960.0  \n",
       "7            Gonzaga   2165160.0  \n",
       "8         Louisville   1824360.0  \n",
       "9     Oklahoma State   3431040.0  "
      ]
     },
     "execution_count": 12,
     "metadata": {},
     "output_type": "execute_result"
    }
   ],
   "source": [
    "nba_data.head(10)"
   ]
  },
  {
   "cell_type": "code",
   "execution_count": 13,
   "id": "92101ac7-4586-4f2f-a47b-fc9d4b4400f8",
   "metadata": {},
   "outputs": [],
   "source": [
    "nba_data_cleaned = nba_data.dropna(subset=['Salary'])"
   ]
  },
  {
   "cell_type": "code",
   "execution_count": 14,
   "id": "a71bdb1e-da97-4ac2-a782-e7aa8a8bf879",
   "metadata": {},
   "outputs": [
    {
     "name": "stdout",
     "output_type": "stream",
     "text": [
      "<class 'pandas.core.frame.DataFrame'>\n",
      "RangeIndex: 458 entries, 0 to 457\n",
      "Data columns (total 9 columns):\n",
      " #   Column    Non-Null Count  Dtype  \n",
      "---  ------    --------------  -----  \n",
      " 0   Name      457 non-null    object \n",
      " 1   Team      457 non-null    object \n",
      " 2   Number    457 non-null    float64\n",
      " 3   Position  457 non-null    object \n",
      " 4   Age       457 non-null    float64\n",
      " 5   Height    457 non-null    object \n",
      " 6   Weight    457 non-null    float64\n",
      " 7   College   373 non-null    object \n",
      " 8   Salary    446 non-null    float64\n",
      "dtypes: float64(4), object(5)\n",
      "memory usage: 32.3+ KB\n"
     ]
    }
   ],
   "source": [
    "nba_data.info()"
   ]
  },
  {
   "cell_type": "markdown",
   "id": "dd8d5bd9-8f35-4903-9cff-629e6ecf4f18",
   "metadata": {},
   "source": [
    "1 : Get the team name with the maximum average salary:  "
   ]
  },
  {
   "cell_type": "code",
   "execution_count": 16,
   "id": "a8963960-1b5f-4ee3-950b-444e57668833",
   "metadata": {},
   "outputs": [
    {
     "name": "stdout",
     "output_type": "stream",
     "text": [
      "Team with maximum average salary: Cleveland Cavaliers\n"
     ]
    }
   ],
   "source": [
    "team_avg_salary = nba_data_cleaned.groupby('Team')['Salary'].mean()\n",
    "team_with_max_avg_salary = team_avg_salary.idxmax()\n",
    "print(f\"Team with maximum average salary: {team_with_max_avg_salary}\")\n"
   ]
  },
  {
   "cell_type": "markdown",
   "id": "896775ab-56c9-4b61-a3f3-e68683ba0a4f",
   "metadata": {},
   "source": [
    "Team with maximum average salary: Cleveland Cavaliers  \n"
   ]
  },
  {
   "cell_type": "markdown",
   "id": "24fc1b40-1934-46b9-8974-c5bba6aef23d",
   "metadata": {},
   "source": [
    "2. College contributing the maximum number of players:"
   ]
  },
  {
   "cell_type": "code",
   "execution_count": 19,
   "id": "a3741859-dded-4855-887b-a4c5eb92c966",
   "metadata": {},
   "outputs": [
    {
     "name": "stdout",
     "output_type": "stream",
     "text": [
      "College contributing the maximum number of players: Kentucky\n"
     ]
    }
   ],
   "source": [
    "college_counts = nba_data['College'].value_counts()\n",
    "college_with_max_players = college_counts.idxmax()\n",
    "print(f\"College contributing the maximum number of players: {college_with_max_players}\")\n"
   ]
  },
  {
   "cell_type": "code",
   "execution_count": 20,
   "id": "ce4d20b1-bae5-439b-a085-c57ecc62a8bc",
   "metadata": {},
   "outputs": [],
   "source": [
    "# College contributing the maximum number of players: Kentucky\n"
   ]
  },
  {
   "cell_type": "markdown",
   "id": "cab8b9e1-e36e-4e76-b578-0482c6cf7a39",
   "metadata": {},
   "source": [
    "3. Difference between the top 2 salaried players:"
   ]
  },
  {
   "cell_type": "code",
   "execution_count": 22,
   "id": "228fd79b-db2c-46c8-b2ee-f6fb06972fd8",
   "metadata": {},
   "outputs": [
    {
     "name": "stdout",
     "output_type": "stream",
     "text": [
      "Difference between top 2 salaried players: 2029500.0\n"
     ]
    }
   ],
   "source": [
    "top_2_salaries = nba_data_cleaned['Salary'].nlargest(2)\n",
    "salary_difference = top_2_salaries.iloc[0] - top_2_salaries.iloc[1]\n",
    "print(f\"Difference between top 2 salaried players: {salary_difference}\")\n"
   ]
  },
  {
   "cell_type": "markdown",
   "id": "fe0a1645-e126-4fbe-ab8c-5e1659087bc9",
   "metadata": {},
   "source": [
    "Part 2 \n"
   ]
  },
  {
   "cell_type": "markdown",
   "id": "4f8a0594-acc3-46f8-92e4-7143afd98b1c",
   "metadata": {},
   "source": [
    " 1 : Given two numbers a, b where b > a, find the sum of all primes between them. "
   ]
  },
  {
   "cell_type": "code",
   "execution_count": 37,
   "id": "880d73cf-94c2-427f-8f5e-ff69d727d211",
   "metadata": {},
   "outputs": [
    {
     "name": "stdout",
     "output_type": "stream",
     "text": [
      "Sum of primes between 10 and 30: 112\n"
     ]
    }
   ],
   "source": [
    "def is_prime(n):\n",
    "   \n",
    "    if n < 2:\n",
    "        return False\n",
    "    for i in range(2, int(n**0.5) + 1):\n",
    "        if n % i == 0:\n",
    "            return False\n",
    "    return True\n",
    "\n",
    "def sum_of_primes(a, b):\n",
    "    \n",
    "    return sum(x for x in range(a + 1, b) if is_prime(x))\n",
    "\n",
    "\n",
    "a, b = 10, 30  \n",
    "result = sum_of_primes(a, b)\n",
    "print(f\"Sum of primes between {a} and {b}: {result}\")"
   ]
  },
  {
   "cell_type": "markdown",
   "id": "c3092395-cc8a-4116-ba5e-15104ae4a6f9",
   "metadata": {},
   "source": [
    "2 : Find the 3rd smallest number in an array. "
   ]
  },
  {
   "cell_type": "code",
   "execution_count": 38,
   "id": "6118cb83-31b2-4799-8f28-93212e1e7dd2",
   "metadata": {},
   "outputs": [
    {
     "name": "stdout",
     "output_type": "stream",
     "text": [
      "The 3rd smallest number is: 7\n"
     ]
    }
   ],
   "source": [
    "def third_smallest(arr):\n",
    "   \n",
    "    if len(arr) < 3:\n",
    "        return None  \n",
    "    sorted_arr = sorted(arr)  \n",
    "    return sorted_arr[2]  \n",
    "\n",
    "\n",
    "array = [7, 10, 4, 3, 20, 15]\n",
    "result = third_smallest(array)\n",
    "if result is not None:\n",
    "    print(f\"The 3rd smallest number is: {result}\")\n",
    "else:\n",
    "    print(\"The array has fewer than 3 elements.\")\n"
   ]
  },
  {
   "cell_type": "code",
   "execution_count": null,
   "id": "0dd5c40a-57a3-4f12-b9ec-68382d65cf3c",
   "metadata": {},
   "outputs": [],
   "source": []
  }
 ],
 "metadata": {
  "kernelspec": {
   "display_name": "Python 3 (ipykernel)",
   "language": "python",
   "name": "python3"
  },
  "language_info": {
   "codemirror_mode": {
    "name": "ipython",
    "version": 3
   },
   "file_extension": ".py",
   "mimetype": "text/x-python",
   "name": "python",
   "nbconvert_exporter": "python",
   "pygments_lexer": "ipython3",
   "version": "3.10.7"
  }
 },
 "nbformat": 4,
 "nbformat_minor": 5
}
